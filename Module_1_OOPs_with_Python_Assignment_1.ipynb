{
  "nbformat": 4,
  "nbformat_minor": 0,
  "metadata": {
    "colab": {
      "name": "Module-1-OOPs-with-Python-Assignment-1.ipynb",
      "provenance": [],
      "collapsed_sections": [],
      "authorship_tag": "ABX9TyMs81L+sdPdUH6DQiBhy4oI",
      "include_colab_link": true
    },
    "kernelspec": {
      "name": "python3",
      "display_name": "Python 3"
    },
    "language_info": {
      "name": "python"
    }
  },
  "cells": [
    {
      "cell_type": "markdown",
      "metadata": {
        "id": "view-in-github",
        "colab_type": "text"
      },
      "source": [
        "<a href=\"https://colab.research.google.com/github/vranjanikar/Colab_To_GitHub/blob/main/Module_1_OOPs_with_Python_Assignment_1.ipynb\" target=\"_parent\"><img src=\"https://colab.research.google.com/assets/colab-badge.svg\" alt=\"Open In Colab\"/></a>"
      ]
    },
    {
      "cell_type": "code",
      "source": [
        "class Calculator:\n",
        "    def add(self,value1,value2):\n",
        "        return print(value1 + value2)\n",
        "    def sub(self,value1,value2):\n",
        "        return print(value1 - value2)\n",
        "    def mul(self,value1,value2):\n",
        "        return print(value1 * value2)\n",
        "    def div(self,value1,value2):\n",
        "        return print(value1/value2)\n",
        "\n",
        "    def execute_command(self, operator, value1, value2):\n",
        "        if(operator==\"add\"):\n",
        "          return self.add(value1, value2)\n",
        "        elif (operator==\"sub\"):\n",
        "          return self.sub(value1, value2)\n",
        "        elif (operator==\"mul\"):\n",
        "          return self.mul(value1, value2)\n",
        "        elif (operator==\"div\"):\n",
        "          return self.div(value1, value2)\n",
        "        else:\n",
        "          return print(\"not valid operator\")\n",
        "\n",
        "calculate = Calculator() \n",
        "calculate.execute_command(\"add\",3,7)\n",
        "calculate.execute_command(\"sub\",3,7)\n",
        "calculate.execute_command(\"mul\",3,7)\n",
        "calculate.execute_command(\"div\",3,7)\n"
      ],
      "metadata": {
        "colab": {
          "base_uri": "https://localhost:8080/"
        },
        "id": "5uox2hxnSUVb",
        "outputId": "ce002fd1-c7f1-4781-9041-a64fc638c55a"
      },
      "execution_count": null,
      "outputs": [
        {
          "output_type": "stream",
          "name": "stdout",
          "text": [
            "10\n",
            "-4\n",
            "21\n",
            "0.42857142857142855\n"
          ]
        }
      ]
    }
  ]
}